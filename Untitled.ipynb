{
 "cells": [
  {
   "cell_type": "code",
   "execution_count": 3,
   "metadata": {
    "ExecuteTime": {
     "end_time": "2020-07-16T01:46:52.383715Z",
     "start_time": "2020-07-16T01:46:52.381756Z"
    }
   },
   "outputs": [],
   "source": [
    "#!pip install pandas sklearn sportsreference\n",
    "\n",
    "from sportsreference.ncaab.teams import Teams"
   ]
  },
  {
   "cell_type": "code",
   "execution_count": 4,
   "metadata": {
    "ExecuteTime": {
     "end_time": "2020-07-16T01:47:34.071732Z",
     "start_time": "2020-07-16T01:47:15.973411Z"
    }
   },
   "outputs": [],
   "source": [
    "teams = Teams()"
   ]
  },
  {
   "cell_type": "code",
   "execution_count": 12,
   "metadata": {
    "ExecuteTime": {
     "end_time": "2020-07-16T01:50:04.101126Z",
     "start_time": "2020-07-16T01:50:01.117523Z"
    }
   },
   "outputs": [
    {
     "data": {
      "text/plain": [
       "ABILENE-CHRISTIAN     2352\n",
       "AIR-FORCE             2338\n",
       "AKRON                 2348\n",
       "ALABAMA-AM            1845\n",
       "ALABAMA-BIRMINGHAM    2154\n",
       "                      ... \n",
       "WRIGHT-STATE          2580\n",
       "WYOMING               2070\n",
       "XAVIER                2261\n",
       "YALE                  2289\n",
       "YOUNGSTOWN-STATE      2401\n",
       "Name: points, Length: 353, dtype: int64"
      ]
     },
     "execution_count": 12,
     "metadata": {},
     "output_type": "execute_result"
    }
   ],
   "source": [
    "teams.dataframes.points"
   ]
  },
  {
   "cell_type": "code",
   "execution_count": null,
   "metadata": {},
   "outputs": [],
   "source": []
  }
 ],
 "metadata": {
  "kernelspec": {
   "display_name": "Python 3",
   "language": "python",
   "name": "python3"
  },
  "language_info": {
   "codemirror_mode": {
    "name": "ipython",
    "version": 3
   },
   "file_extension": ".py",
   "mimetype": "text/x-python",
   "name": "python",
   "nbconvert_exporter": "python",
   "pygments_lexer": "ipython3",
   "version": "3.7.3"
  },
  "latex_envs": {
   "LaTeX_envs_menu_present": true,
   "autoclose": false,
   "autocomplete": true,
   "bibliofile": "biblio.bib",
   "cite_by": "apalike",
   "current_citInitial": 1,
   "eqLabelWithNumbers": true,
   "eqNumInitial": 1,
   "hotkeys": {
    "equation": "Ctrl-E",
    "itemize": "Ctrl-I"
   },
   "labels_anchors": false,
   "latex_user_defs": false,
   "report_style_numbering": false,
   "user_envs_cfg": false
  },
  "toc": {
   "base_numbering": 1,
   "nav_menu": {},
   "number_sections": true,
   "sideBar": true,
   "skip_h1_title": false,
   "title_cell": "Table of Contents",
   "title_sidebar": "Contents",
   "toc_cell": false,
   "toc_position": {},
   "toc_section_display": true,
   "toc_window_display": false
  }
 },
 "nbformat": 4,
 "nbformat_minor": 2
}
