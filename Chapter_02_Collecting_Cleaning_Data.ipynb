{
 "cells": [
  {
   "cell_type": "markdown",
   "metadata": {},
   "source": [
    "# Chapter 2: Collecting and Cleaning Data"
   ]
  },
  {
   "cell_type": "code",
   "execution_count": 2,
   "metadata": {
    "ExecuteTime": {
     "end_time": "2020-07-15T21:07:54.052930Z",
     "start_time": "2020-07-15T21:07:53.877317Z"
    }
   },
   "outputs": [],
   "source": [
    "import pandas as pd\n",
    "import numpy as np\n",
    "import matplotlib.pyplot as plt"
   ]
  },
  {
   "cell_type": "code",
   "execution_count": 7,
   "metadata": {
    "ExecuteTime": {
     "end_time": "2020-07-15T21:17:38.711432Z",
     "start_time": "2020-07-15T21:17:38.691115Z"
    }
   },
   "outputs": [],
   "source": [
    "header_games_list = ['Date','Guest','Guest_Points','Home','Home_Points']\n",
    "header_teams_list = ['Conference','College']\n",
    "\n",
    "df_games = pd.read_csv('./data/Games.csv', names=header_games_list)\n",
    "df_teams = pd.read_csv('./data/Teams.csv', names=header_teams_list)"
   ]
  },
  {
   "cell_type": "code",
   "execution_count": 6,
   "metadata": {
    "ExecuteTime": {
     "end_time": "2020-07-15T21:13:32.139576Z",
     "start_time": "2020-07-15T21:13:32.132244Z"
    }
   },
   "outputs": [
    {
     "data": {
      "text/html": [
       "<div>\n",
       "<style scoped>\n",
       "    .dataframe tbody tr th:only-of-type {\n",
       "        vertical-align: middle;\n",
       "    }\n",
       "\n",
       "    .dataframe tbody tr th {\n",
       "        vertical-align: top;\n",
       "    }\n",
       "\n",
       "    .dataframe thead th {\n",
       "        text-align: right;\n",
       "    }\n",
       "</style>\n",
       "<table border=\"1\" class=\"dataframe\">\n",
       "  <thead>\n",
       "    <tr style=\"text-align: right;\">\n",
       "      <th></th>\n",
       "      <th>Date</th>\n",
       "      <th>Guest</th>\n",
       "      <th>Guest_Points</th>\n",
       "      <th>Home</th>\n",
       "      <th>Home_Points</th>\n",
       "    </tr>\n",
       "  </thead>\n",
       "  <tbody>\n",
       "    <tr>\n",
       "      <th>0</th>\n",
       "      <td>2015-11-13</td>\n",
       "      <td>Hawaii</td>\n",
       "      <td>87</td>\n",
       "      <td>Montana St.</td>\n",
       "      <td>76</td>\n",
       "    </tr>\n",
       "    <tr>\n",
       "      <th>1</th>\n",
       "      <td>2015-11-13</td>\n",
       "      <td>Eastern Mich.</td>\n",
       "      <td>70</td>\n",
       "      <td>Vermont</td>\n",
       "      <td>50</td>\n",
       "    </tr>\n",
       "    <tr>\n",
       "      <th>2</th>\n",
       "      <td>2015-11-13</td>\n",
       "      <td>Columbia</td>\n",
       "      <td>107</td>\n",
       "      <td>Kean</td>\n",
       "      <td>62</td>\n",
       "    </tr>\n",
       "    <tr>\n",
       "      <th>3</th>\n",
       "      <td>2015-11-13</td>\n",
       "      <td>La.-Monroe</td>\n",
       "      <td>88</td>\n",
       "      <td>McMurry</td>\n",
       "      <td>43</td>\n",
       "    </tr>\n",
       "    <tr>\n",
       "      <th>4</th>\n",
       "      <td>2015-11-13</td>\n",
       "      <td>Yale</td>\n",
       "      <td>70</td>\n",
       "      <td>Fairfield</td>\n",
       "      <td>57</td>\n",
       "    </tr>\n",
       "  </tbody>\n",
       "</table>\n",
       "</div>"
      ],
      "text/plain": [
       "         Date          Guest  Guest_Points         Home  Home_Points\n",
       "0  2015-11-13         Hawaii            87  Montana St.           76\n",
       "1  2015-11-13  Eastern Mich.            70      Vermont           50\n",
       "2  2015-11-13       Columbia           107         Kean           62\n",
       "3  2015-11-13     La.-Monroe            88      McMurry           43\n",
       "4  2015-11-13           Yale            70    Fairfield           57"
      ]
     },
     "execution_count": 6,
     "metadata": {},
     "output_type": "execute_result"
    }
   ],
   "source": [
    "df_games.head()"
   ]
  },
  {
   "cell_type": "code",
   "execution_count": 16,
   "metadata": {
    "ExecuteTime": {
     "end_time": "2020-07-16T00:21:16.820608Z",
     "start_time": "2020-07-16T00:21:16.800963Z"
    }
   },
   "outputs": [],
   "source": [
    "df_games['Date'] = pd.to_datetime(df_games['Date'])"
   ]
  },
  {
   "cell_type": "code",
   "execution_count": 69,
   "metadata": {
    "ExecuteTime": {
     "end_time": "2020-07-16T04:09:16.086512Z",
     "start_time": "2020-07-16T04:09:16.074405Z"
    }
   },
   "outputs": [
    {
     "data": {
      "text/html": [
       "<div>\n",
       "<style scoped>\n",
       "    .dataframe tbody tr th:only-of-type {\n",
       "        vertical-align: middle;\n",
       "    }\n",
       "\n",
       "    .dataframe tbody tr th {\n",
       "        vertical-align: top;\n",
       "    }\n",
       "\n",
       "    .dataframe thead th {\n",
       "        text-align: right;\n",
       "    }\n",
       "</style>\n",
       "<table border=\"1\" class=\"dataframe\">\n",
       "  <thead>\n",
       "    <tr style=\"text-align: right;\">\n",
       "      <th></th>\n",
       "      <th>Date</th>\n",
       "      <th>Guest</th>\n",
       "      <th>Guest_Points</th>\n",
       "      <th>Home</th>\n",
       "      <th>Home_Points</th>\n",
       "    </tr>\n",
       "  </thead>\n",
       "  <tbody>\n",
       "    <tr>\n",
       "      <th>0</th>\n",
       "      <td>2015-11-13</td>\n",
       "      <td>Hawaii</td>\n",
       "      <td>87</td>\n",
       "      <td>Montana St</td>\n",
       "      <td>76</td>\n",
       "    </tr>\n",
       "    <tr>\n",
       "      <th>1</th>\n",
       "      <td>2015-11-13</td>\n",
       "      <td>Eastern Mich.</td>\n",
       "      <td>70</td>\n",
       "      <td>Vermont</td>\n",
       "      <td>50</td>\n",
       "    </tr>\n",
       "    <tr>\n",
       "      <th>2</th>\n",
       "      <td>2015-11-13</td>\n",
       "      <td>Columbia</td>\n",
       "      <td>107</td>\n",
       "      <td>Kean</td>\n",
       "      <td>62</td>\n",
       "    </tr>\n",
       "    <tr>\n",
       "      <th>3</th>\n",
       "      <td>2015-11-13</td>\n",
       "      <td>La.-Monroe</td>\n",
       "      <td>88</td>\n",
       "      <td>McMurry</td>\n",
       "      <td>43</td>\n",
       "    </tr>\n",
       "    <tr>\n",
       "      <th>4</th>\n",
       "      <td>2015-11-13</td>\n",
       "      <td>Yale</td>\n",
       "      <td>70</td>\n",
       "      <td>Fairfield</td>\n",
       "      <td>57</td>\n",
       "    </tr>\n",
       "    <tr>\n",
       "      <th>...</th>\n",
       "      <td>...</td>\n",
       "      <td>...</td>\n",
       "      <td>...</td>\n",
       "      <td>...</td>\n",
       "      <td>...</td>\n",
       "    </tr>\n",
       "    <tr>\n",
       "      <th>23488</th>\n",
       "      <td>2019-03-21</td>\n",
       "      <td>Hampton</td>\n",
       "      <td>81</td>\n",
       "      <td>St Francis (B&amp;#039klyn)</td>\n",
       "      <td>72</td>\n",
       "    </tr>\n",
       "    <tr>\n",
       "      <th>23489</th>\n",
       "      <td>2019-03-21</td>\n",
       "      <td>La.-Monroe</td>\n",
       "      <td>87</td>\n",
       "      <td>Kent State</td>\n",
       "      <td>77</td>\n",
       "    </tr>\n",
       "    <tr>\n",
       "      <th>23490</th>\n",
       "      <td>2019-03-21</td>\n",
       "      <td>CSU Fullerton</td>\n",
       "      <td>58</td>\n",
       "      <td>CSU Bakersfield</td>\n",
       "      <td>66</td>\n",
       "    </tr>\n",
       "    <tr>\n",
       "      <th>23491</th>\n",
       "      <td>2019-03-22</td>\n",
       "      <td>Southern Utah</td>\n",
       "      <td>80</td>\n",
       "      <td>Drake</td>\n",
       "      <td>73</td>\n",
       "    </tr>\n",
       "    <tr>\n",
       "      <th>23492</th>\n",
       "      <td>2019-03-22</td>\n",
       "      <td>Creighton</td>\n",
       "      <td>79</td>\n",
       "      <td>Memphis</td>\n",
       "      <td>67</td>\n",
       "    </tr>\n",
       "  </tbody>\n",
       "</table>\n",
       "<p>23492 rows × 5 columns</p>\n",
       "</div>"
      ],
      "text/plain": [
       "            Date          Guest  Guest_Points                     Home  \\\n",
       "0     2015-11-13         Hawaii            87               Montana St   \n",
       "1     2015-11-13  Eastern Mich.            70                  Vermont   \n",
       "2     2015-11-13       Columbia           107                     Kean   \n",
       "3     2015-11-13     La.-Monroe            88                  McMurry   \n",
       "4     2015-11-13           Yale            70                Fairfield   \n",
       "...          ...            ...           ...                      ...   \n",
       "23488 2019-03-21        Hampton            81  St Francis (B&#039klyn)   \n",
       "23489 2019-03-21     La.-Monroe            87               Kent State   \n",
       "23490 2019-03-21  CSU Fullerton            58          CSU Bakersfield   \n",
       "23491 2019-03-22  Southern Utah            80                    Drake   \n",
       "23492 2019-03-22      Creighton            79                  Memphis   \n",
       "\n",
       "       Home_Points  \n",
       "0               76  \n",
       "1               50  \n",
       "2               62  \n",
       "3               43  \n",
       "4               57  \n",
       "...            ...  \n",
       "23488           72  \n",
       "23489           77  \n",
       "23490           66  \n",
       "23491           73  \n",
       "23492           67  \n",
       "\n",
       "[23492 rows x 5 columns]"
      ]
     },
     "execution_count": 69,
     "metadata": {},
     "output_type": "execute_result"
    }
   ],
   "source": [
    "df_games"
   ]
  },
  {
   "cell_type": "code",
   "execution_count": 13,
   "metadata": {
    "ExecuteTime": {
     "end_time": "2020-07-15T21:19:56.515949Z",
     "start_time": "2020-07-15T21:19:56.507824Z"
    }
   },
   "outputs": [
    {
     "name": "stdout",
     "output_type": "stream",
     "text": [
      "<class 'pandas.core.frame.DataFrame'>\n",
      "RangeIndex: 23493 entries, 0 to 23492\n",
      "Data columns (total 5 columns):\n",
      " #   Column        Non-Null Count  Dtype \n",
      "---  ------        --------------  ----- \n",
      " 0   Date          23493 non-null  object\n",
      " 1   Guest         23493 non-null  object\n",
      " 2   Guest_Points  23493 non-null  int64 \n",
      " 3   Home          23492 non-null  object\n",
      " 4   Home_Points   23493 non-null  int64 \n",
      "dtypes: int64(2), object(3)\n",
      "memory usage: 917.8+ KB\n"
     ]
    }
   ],
   "source": [
    "df_games.info()"
   ]
  },
  {
   "cell_type": "code",
   "execution_count": 23,
   "metadata": {
    "ExecuteTime": {
     "end_time": "2020-07-16T00:28:12.908201Z",
     "start_time": "2020-07-16T00:28:12.894833Z"
    }
   },
   "outputs": [
    {
     "data": {
      "text/html": [
       "<div>\n",
       "<style scoped>\n",
       "    .dataframe tbody tr th:only-of-type {\n",
       "        vertical-align: middle;\n",
       "    }\n",
       "\n",
       "    .dataframe tbody tr th {\n",
       "        vertical-align: top;\n",
       "    }\n",
       "\n",
       "    .dataframe thead th {\n",
       "        text-align: right;\n",
       "    }\n",
       "</style>\n",
       "<table border=\"1\" class=\"dataframe\">\n",
       "  <thead>\n",
       "    <tr style=\"text-align: right;\">\n",
       "      <th></th>\n",
       "      <th>Date</th>\n",
       "      <th>Guest</th>\n",
       "      <th>Guest_Points</th>\n",
       "      <th>Home</th>\n",
       "      <th>Home_Points</th>\n",
       "    </tr>\n",
       "  </thead>\n",
       "  <tbody>\n",
       "    <tr>\n",
       "      <th>18102</th>\n",
       "      <td>2018-11-14</td>\n",
       "      <td>Alabama State</td>\n",
       "      <td>86</td>\n",
       "      <td>NaN</td>\n",
       "      <td>44</td>\n",
       "    </tr>\n",
       "  </tbody>\n",
       "</table>\n",
       "</div>"
      ],
      "text/plain": [
       "            Date          Guest  Guest_Points Home  Home_Points\n",
       "18102 2018-11-14  Alabama State            86  NaN           44"
      ]
     },
     "execution_count": 23,
     "metadata": {},
     "output_type": "execute_result"
    }
   ],
   "source": [
    "# Which row is it missing\n",
    "df_games[df_games['Home'].isnull()]"
   ]
  },
  {
   "cell_type": "code",
   "execution_count": 28,
   "metadata": {
    "ExecuteTime": {
     "end_time": "2020-07-16T00:30:19.394178Z",
     "start_time": "2020-07-16T00:30:19.381123Z"
    }
   },
   "outputs": [
    {
     "name": "stdout",
     "output_type": "stream",
     "text": [
      "<class 'pandas.core.frame.DataFrame'>\n",
      "Int64Index: 23492 entries, 0 to 23492\n",
      "Data columns (total 5 columns):\n",
      " #   Column        Non-Null Count  Dtype         \n",
      "---  ------        --------------  -----         \n",
      " 0   Date          23492 non-null  datetime64[ns]\n",
      " 1   Guest         23492 non-null  object        \n",
      " 2   Guest_Points  23492 non-null  int64         \n",
      " 3   Home          23492 non-null  object        \n",
      " 4   Home_Points   23492 non-null  int64         \n",
      "dtypes: datetime64[ns](1), int64(2), object(2)\n",
      "memory usage: 1.1+ MB\n"
     ]
    }
   ],
   "source": [
    "# Drop that row\n",
    "df_games = df_games.dropna();\n",
    "\n",
    "df_games.info()"
   ]
  },
  {
   "cell_type": "code",
   "execution_count": 8,
   "metadata": {
    "ExecuteTime": {
     "end_time": "2020-07-15T21:17:49.856780Z",
     "start_time": "2020-07-15T21:17:49.850314Z"
    }
   },
   "outputs": [
    {
     "data": {
      "text/html": [
       "<div>\n",
       "<style scoped>\n",
       "    .dataframe tbody tr th:only-of-type {\n",
       "        vertical-align: middle;\n",
       "    }\n",
       "\n",
       "    .dataframe tbody tr th {\n",
       "        vertical-align: top;\n",
       "    }\n",
       "\n",
       "    .dataframe thead th {\n",
       "        text-align: right;\n",
       "    }\n",
       "</style>\n",
       "<table border=\"1\" class=\"dataframe\">\n",
       "  <thead>\n",
       "    <tr style=\"text-align: right;\">\n",
       "      <th></th>\n",
       "      <th>Conference</th>\n",
       "      <th>College</th>\n",
       "    </tr>\n",
       "  </thead>\n",
       "  <tbody>\n",
       "    <tr>\n",
       "      <th>0</th>\n",
       "      <td>America East</td>\n",
       "      <td>Vermont</td>\n",
       "    </tr>\n",
       "    <tr>\n",
       "      <th>1</th>\n",
       "      <td>America East</td>\n",
       "      <td>Stony Brook</td>\n",
       "    </tr>\n",
       "    <tr>\n",
       "      <th>2</th>\n",
       "      <td>America East</td>\n",
       "      <td>UMBC</td>\n",
       "    </tr>\n",
       "    <tr>\n",
       "      <th>3</th>\n",
       "      <td>America East</td>\n",
       "      <td>Hartford</td>\n",
       "    </tr>\n",
       "    <tr>\n",
       "      <th>4</th>\n",
       "      <td>America East</td>\n",
       "      <td>Albany</td>\n",
       "    </tr>\n",
       "  </tbody>\n",
       "</table>\n",
       "</div>"
      ],
      "text/plain": [
       "     Conference      College\n",
       "0  America East      Vermont\n",
       "1  America East  Stony Brook\n",
       "2  America East         UMBC\n",
       "3  America East     Hartford\n",
       "4  America East       Albany"
      ]
     },
     "execution_count": 8,
     "metadata": {},
     "output_type": "execute_result"
    }
   ],
   "source": [
    "df_teams.head()"
   ]
  },
  {
   "cell_type": "code",
   "execution_count": 14,
   "metadata": {
    "ExecuteTime": {
     "end_time": "2020-07-16T00:19:52.165681Z",
     "start_time": "2020-07-16T00:19:52.038201Z"
    }
   },
   "outputs": [
    {
     "name": "stdout",
     "output_type": "stream",
     "text": [
      "<class 'pandas.core.frame.DataFrame'>\n",
      "RangeIndex: 353 entries, 0 to 352\n",
      "Data columns (total 2 columns):\n",
      " #   Column      Non-Null Count  Dtype \n",
      "---  ------      --------------  ----- \n",
      " 0   Conference  353 non-null    object\n",
      " 1   College     353 non-null    object\n",
      "dtypes: object(2)\n",
      "memory usage: 5.6+ KB\n"
     ]
    }
   ],
   "source": [
    "df_teams.info()"
   ]
  },
  {
   "cell_type": "markdown",
   "metadata": {},
   "source": [
    "The teams dataframe looks OK."
   ]
  },
  {
   "cell_type": "code",
   "execution_count": 57,
   "metadata": {
    "ExecuteTime": {
     "end_time": "2020-07-16T03:07:35.756108Z",
     "start_time": "2020-07-16T03:07:35.749495Z"
    }
   },
   "outputs": [
    {
     "name": "stdout",
     "output_type": "stream",
     "text": [
      "Number of unique colleges from home column  = 1022\n",
      "Number of unique colleges from guest column = 452\n",
      "Number of unique colleges from team column  = 353\n"
     ]
    }
   ],
   "source": [
    "# Extract Colleges from the dataframes\n",
    "games_home_colleges  = sorted(list(df_games.Home.unique()))\n",
    "games_guest_colleges = sorted(list(df_games.Guest.unique()))\n",
    "teams_colleges       = sorted(list(df_teams.College.unique()))\n",
    "\n",
    "print('Number of unique colleges from home column  =', len(games_home_colleges))\n",
    "print('Number of unique colleges from guest column =', len(games_guest_colleges))\n",
    "print('Number of unique colleges from team column  =', len(colleges))"
   ]
  },
  {
   "cell_type": "markdown",
   "metadata": {},
   "source": [
    "Something above does not match at all as the number of unique names should match"
   ]
  },
  {
   "cell_type": "code",
   "execution_count": 58,
   "metadata": {
    "ExecuteTime": {
     "end_time": "2020-07-16T03:07:55.439280Z",
     "start_time": "2020-07-16T03:07:55.436853Z"
    }
   },
   "outputs": [
    {
     "name": "stdout",
     "output_type": "stream",
     "text": [
      "['Abilene Christian', 'Air Force', 'Akron', 'Alabama', 'Alabama A&M', 'Alabama State', 'Albany', 'Alcorn State', 'American University', 'Appalachian State', 'Arizona', 'Arizona State', 'Arkansas', 'Arkansas State', 'Arkansas-Little Rock', 'Arkansas-Pine Bluff', 'Army', 'Auburn', 'Austin Peay', 'BYU', 'Ball State', 'Baylor', 'Belmont', 'Bethune-Cookman', 'Binghamton', 'Boise State', 'Boston College', 'Boston University', 'Bowling Green', 'Bradley', 'Brown', 'Bryant University', 'Bucknell', 'Buffalo', 'Butler', 'Cal Poly', 'Cal State Bakersfield', 'Cal State Fullerton', 'Cal State Northridge', 'California', 'California Baptist', 'Campbell', 'Canisius', 'Central Arkansas', 'Central Connecticut State', 'Central Michigan', 'Charleston', 'Charleston Southern', 'Charlotte', 'Chattanooga', 'Chicago State', 'Cincinnati', 'Citadel', 'Clemson', 'Cleveland State', 'Coastal Carolina', 'Colgate', 'Colorado', 'Colorado State', 'Columbia', 'Connecticut', 'Coppin State', 'Cornell', 'Creighton', 'Dartmouth', 'Davidson', 'Dayton', 'DePaul', 'Delaware', 'Delaware State', 'Denver', 'Detroit Mercy', 'Drake', 'Drexel', 'Duke', 'Duquesne', 'East Carolina', 'East Tennessee State', 'Eastern Illinois', 'Eastern Kentucky', 'Eastern Michigan', 'Eastern Washington', 'Elon', 'Evansville', 'Fairfield', 'Fairleigh Dickinson', 'Florida', 'Florida A&M', 'Florida Atlantic', 'Florida Gulf Coast', 'Florida International', 'Florida State', 'Fordham', 'Fresno State', 'Furman', 'Gardner-Webb', 'George Mason', 'George Washington', 'Georgetown', 'Georgia', 'Georgia Southern', 'Georgia State', 'Georgia Tech', 'Gonzaga', 'Grambling State', 'Grand Canyon', 'Green Bay', 'Hampton', 'Hartford', 'Harvard', 'Hawaii', 'High Point', 'Hofstra', 'Holy Cross', 'Houston', 'Houston Baptist', 'Howard', 'IUPUI', 'Idaho', 'Idaho State', 'Illinois', 'Illinois State', 'Illinois-Chicago', 'Incarnate Word', 'Indiana', 'Indiana State', 'Iona', 'Iowa', 'Iowa State', 'Jackson State', 'Jacksonville', 'Jacksonville State', 'James Madison', 'Kansas', 'Kansas State', 'Kennesaw State', 'Kent State', 'Kentucky', 'LIU Brooklyn', 'LSU', 'La Salle', 'Lafayette', 'Lamar', 'Lehigh', 'Liberty', 'Lipscomb', 'Long Beach State', 'Longwood', 'Louisiana Tech', 'Louisiana-Lafayette', 'Louisiana-Monroe', 'Louisville', 'Loyola (IL)', 'Loyola (MD)', 'Loyola Marymount', 'Maine', 'Manhattan', 'Marist', 'Marquette', 'Marshall', 'Maryland', 'Maryland-Eastern Shore', 'Massachusetts', 'Massachusetts-Lowell', 'McNeese State', 'Memphis', 'Mercer', 'Miami (FL)', 'Miami (OH)', 'Michigan', 'Michigan State', 'Middle Tennessee', 'Milwaukee', 'Minnesota', 'Mississippi State', 'Mississippi Valley State', 'Missouri', 'Missouri State', 'Monmouth', 'Montana', 'Montana State', 'Morehead State', 'Morgan State', \"Mount St Mary's\", 'Murray State', 'NJIT', 'Navy', 'Nebraska', 'Nebraska-Omaha', 'Nevada', 'New Hampshire', 'New Mexico', 'New Mexico State', 'New Orleans', 'Niagara', 'Nicholls State', 'Norfolk State', 'North Alabama', 'North Carolina', 'North Carolina A&T', 'North Carolina Central', 'North Carolina State', 'North Carolina-Wilmington', 'North Dakota', 'North Dakota State', 'North Florida', 'North Texas', 'Northeastern', 'Northern Arizona', 'Northern Colorado', 'Northern Illinois', 'Northern Iowa', 'Northern Kentucky', 'Northwestern', 'Northwestern State', 'Notre Dame', 'Oakland', 'Ohio', 'Ohio State', 'Oklahoma', 'Oklahoma State', 'Old Dominion', 'Ole Miss', 'Oral Roberts', 'Oregon', 'Oregon State', 'Pacific', 'Penn State', 'Pennsylvania', 'Pepperdine', 'Pittsburgh', 'Portland', 'Portland State', 'Prairie View A&M', 'Presbyterian', 'Princeton', 'Providence', 'Purdue', 'Purdue Fort Wayne', 'Quinnipiac', 'Radford', 'Rhode Island', 'Rice', 'Richmond', 'Rider', 'Robert Morris', 'Rutgers', 'SIU-Edwardsville', 'SMU', 'Sacramento State', 'Sacred Heart', \"Saint Joseph's (PA)\", 'Saint Louis', \"Saint Mary's\", 'Sam Houston State', 'Samford', 'San Diego', 'San Diego State', 'San Francisco', 'San Jose State', 'Santa Clara', 'Savannah State', 'Seattle', 'Seton Hall', 'Siena', 'South Alabama', 'South Carolina', 'South Carolina State', 'South Dakota', 'South Dakota State', 'South Florida', 'Southeast Missouri State', 'Southeastern Louisiana', 'Southern Illinois', 'Southern Miss', 'Southern University', 'Southern Utah', 'St Bonaventure', 'St Francis (BKN)', 'St Francis (PA)', \"St John's\", \"St Peter's\", 'Stanford', 'Stephen F Austin', 'Stetson', 'Stony Brook', 'Syracuse', 'TCU', 'Temple', 'Tennessee', 'Tennessee State', 'Tennessee Tech', 'Tennessee-Martin', 'Texas', 'Texas A&M', 'Texas A&M-CC', 'Texas Rio Grande Valley', 'Texas Southern', 'Texas State', 'Texas Tech', 'Texas-Arlington', 'Toledo', 'Towson', 'Troy', 'Tulane', 'Tulsa', 'UAB', 'UC Davis', 'UC Irvine', 'UC Riverside', 'UC Santa Barbara', 'UCF', 'UCLA', 'UMBC', 'UMKC', 'UNC Asheville', 'UNC Greensboro', 'UNLV', 'USC', 'USC Upstate', 'UTEP', 'UTSA', 'Utah', 'Utah State', 'Utah Valley', 'Valparaiso', 'Vanderbilt', 'Vermont', 'Villanova', 'Virginia', 'Virginia Commonwealth', 'Virginia Military', 'Virginia Tech', 'Wagner', 'Wake Forest', 'Washington', 'Washington State', 'Weber State', 'West Virginia', 'Western Carolina', 'Western Illinois', 'Western Kentucky', 'Western Michigan', 'Wichita State', 'William & Mary', 'Winthrop', 'Wisconsin', 'Wofford', 'Wright State', 'Wyoming', 'Xavier', 'Yale', 'Youngstown State']\n"
     ]
    }
   ],
   "source": [
    "# This would be the ground truth\n",
    "print(teams_colleges)"
   ]
  },
  {
   "cell_type": "code",
   "execution_count": 54,
   "metadata": {
    "ExecuteTime": {
     "end_time": "2020-07-16T00:50:37.961051Z",
     "start_time": "2020-07-16T00:50:37.958111Z"
    },
    "scrolled": false
   },
   "outputs": [
    {
     "name": "stdout",
     "output_type": "stream",
     "text": [
      "['A&amp;M-Corpus Chris', 'Abilene Christian', 'Air Force', 'Akron', 'Alabama', 'Alabama A&amp;M', 'Alabama St.', 'Alabama State', 'Alas. Anchorage', 'Albany', 'Albany (NY)', 'Alcorn St.', 'Alcorn State', 'American', 'Appalachian St.', 'Arizona', 'Arizona St.', 'Ark.-Pine Bluff', 'Arkansas', 'Arkansas St.', 'Arkansas State', 'Army', 'Army West Point', 'Auburn', 'Austin Peay', 'Ave Maria', 'BYU', 'Bakersfield', 'Ball St.', 'Ball State', 'Baylor', 'Belmont', 'Bethune-Cookman', 'Binghamton', 'Boise St.', 'Boise State', 'Boston College', 'Boston U.', 'Bowling Green', 'Bradley', 'Brown', 'Bryant', 'Bucknell', 'Buffalo', 'Butler', 'CSU Bakersfield', 'CSU Fullerton', 'CSUN', 'Cal Baptist', 'Cal Poly', 'Cal St. Fullerton', 'Cal St. Northridge', 'California', 'Campbell', 'Canisius', 'Cent. Conn. St.', 'Centenary (LA)', 'Central Ark.', 'Central Conn. St.', 'Central Mich.', 'Chaminade', 'Charleston', 'Charleston So.', 'Charlotte', 'Chattanooga', 'Chicago St.', 'Chicago State', 'Cincinnati', 'Citadel', 'Clemson', 'Cleveland St.', 'Cleveland State', 'Coastal Caro.', 'Col. of Charleston', 'Colgate', 'Colorado', 'Colorado St.', 'Colorado State', 'Columbia', 'Coppin St.', 'Coppin State', 'Cornell', 'Creighton', 'Dartmouth', 'Davidson', 'Dayton', 'DePaul', 'Delaware', 'Delaware St.', 'Delaware State', 'Denver', 'Detroit', 'Detroit Mercy', 'Drake', 'Drexel', 'Duke', 'Duquesne', 'East Carolina', 'East Tenn. St.', 'Eastern Ill.', 'Eastern Illinois', 'Eastern Kentucky', 'Eastern Ky.', 'Eastern Mich.', 'Eastern Wash.', 'Elon', 'Evansville', 'FGCU', 'FIU', 'Fairfield', 'Fairleigh D&#039;son', 'Fairleigh Dickinson', 'Fla. Atlantic', 'Florida', 'Florida A&amp;M', 'Florida Atlantic', 'Florida St.', 'Florida State', 'Fordham', 'Fort Wayne', 'Fresno St.', 'Fresno State', 'Furman', 'Ga. Southern', 'Gardner-Webb', 'Geo. Washington', 'George Mason', 'George Washington', 'Georgetown', 'Georgia', 'Georgia St.', 'Georgia State', 'Georgia Tech', 'Gonzaga', 'Grambling', 'Grand Canyon', 'Green Bay', 'Hampton', 'Hartford', 'Harvard', 'Hawaii', 'High Point', 'Hofstra', 'Holy Cross', 'Houston', 'Houston Baptist', 'Howard', 'Humboldt State', 'IPFW', 'IUPUI', 'Idaho', 'Idaho St.', 'Idaho State', 'Ill.-Chicago', 'Illinois', 'Illinois St.', 'Illinois State', 'Incarnate Word', 'Indiana', 'Indiana St.', 'Indiana State', 'Iona', 'Iowa', 'Iowa St.', 'Iowa State', 'Jackson St.', 'Jackson State', 'Jacksonville', 'Jacksonville St.', 'James Madison', 'Kansas', 'Kansas St.', 'Kennesaw St.', 'Kennesaw State', 'Kent St.', 'Kent State', 'Kentucky', 'LIU Brooklyn', 'LMU', 'LSU', 'LSU Shreveport', 'La Salle', 'La.-Monroe', 'Lafayette', 'Lamar', 'Lamar University', 'Lehigh', 'Liberty', 'Lipscomb', 'Little Rock', 'Long Beach St.', 'Long Island', 'Longwood', 'Louisiana', 'Louisiana Tech', 'Louisville', 'Loyola (IL)', 'Loyola (Md.)', 'Loyola Chicago', 'Loyola Maryland', 'Loyola Marymount', 'Maine', 'Manhattan', 'Marist', 'Marquette', 'Marshall', 'Maryland', 'Mass.-Lowell', 'Massachusetts', 'McNeese ', 'McNeese St.', 'Md.-East. Shore', 'Memphis', 'Mercer', 'Miami (FL)', 'Miami (Fla.)', 'Miami (OH)', 'Miami (Ohio)', 'Mich. St. ', 'Michigan', 'Michigan St.', 'Mid-Atlantic Christ.', 'Middle Tenn.', 'Milwaukee', 'Minnesota', 'Mississippi', 'Mississippi St.', 'Mississippi Val.', 'Missouri', 'Missouri St.', 'Missouri State', 'Monmouth', 'Montana', 'Montana St.', 'Morehead St.', 'Morehead State', 'Morgan St.', 'Morgan State', 'Mt. St. Mary&#039;s', 'Murray St.', 'Murray State', 'N&#039;western St.', 'N.C. A&amp;T', 'N.C. Central', 'NC State', 'NJIT', 'Navy', 'Neb. Omaha', 'Nebraska', 'Nevada', 'New Hampshire', 'New Mexico', 'New Mexico St.', 'New Orleans', 'Niagara', 'Nicholls St.', 'Nicholls State', 'Norfolk St.', 'Norfolk State', 'North Alabama', 'North Carolina', 'North Carolina St.', 'North Dakota', 'North Dakota St.', 'North Florida', 'North Texas', 'Northeastern', 'Northern Ariz.', 'Northern Colo.', 'Northern Ill.', 'Northern Kentucky', 'Northern Ky.', 'Northwestern', 'Northwestern St.', 'Notre Dame', 'Oakland', 'Ohio', 'Ohio St.', 'Ohio St. ', 'Oklahoma', 'Oklahoma St.', 'Oklahoma State', 'Old Dominion', 'Ole Miss', 'Omaha', 'Oral Roberts', 'Oregon', 'Oregon St.', 'Pacific', 'Penn', 'Penn St.', 'Pepperdine', 'Pittsburgh', 'Portland', 'Portland St.', 'Portland State', 'Prairie View', 'Prairie View A&amp;M', 'Presbyterian', 'Princeton', 'Providence', 'Purdue', 'Quinnipiac', 'Radford', 'Rhode Island', 'Rice', 'Richmond', 'Rider', 'Robert Morris', 'Rowan', 'Rutgers', 'S. Carolina St.', 'S.C. Upstate', 'SFA', 'SIU Edwardsville', 'SIUE', 'SMU', 'Sacramento St.', 'Sacred Heart', 'Saint Joseph&#039;s', \"Saint Joseph's\", 'Saint Louis', 'Sam Houston St.', 'Samford', 'San Diego', 'San Diego St.', 'San Diego State', 'San Francisco', 'San Jose St.', 'San Jose State', 'Santa Clara', 'Savannah St.', 'Savannah State', 'Seattle', 'Seattle U', 'Seton Hall', 'Siena', 'South Ala.', 'South Alabama', 'South Carolina', 'South Carolina St.', 'South Dakota', 'South Dakota St.', 'South Fla.', 'South Florida', 'Southeast Mo. St.', 'Southeastern La.', 'Southern California', 'Southern Ill.', 'Southern Miss', 'Southern Miss.', 'Southern U.', 'Southern Univ.', 'Southern Utah', 'St. Bonaventure', 'St. Francis (B&#039;klyn)', 'St. Francis (NY)', 'St. Francis (PA)', 'St. Francis (Pa.)', 'St. John&#039;s ', 'St. John&#039;s (NY)', 'St. Mary&#039;s (CA)', 'St. Mary&#039;s (Cal.)', 'St. Peter&#039;s', 'Stanford', 'Stephen F. Austin', 'Stetson', 'Stony Brook', 'Syracuse', 'TCU', 'Temple', 'Tennessee', 'Tennessee St.', 'Tennessee State', 'Tennessee Tech', 'Texas', 'Texas A&amp;M', 'Texas A&amp;M-C.C.', 'Texas Southern', 'Texas St.', 'Texas State', 'Texas Tech', 'Texas-Arlington', 'Toledo', 'Towson', 'Troy', 'Tulane', 'Tulsa', 'UAB', 'UALR', 'UC Davis', 'UC Irvine', 'UC Riverside', 'UC Santa Barb.', 'UC Santa Barbara', 'UCF', 'UCLA', 'UConn', 'UIC', 'UMBC', 'UMES', 'UMKC', 'UNC Asheville', 'UNC Greensboro', 'UNC Wilmington', 'UNCG', 'UNCW', 'UNI', 'UNLV', 'USC', 'UT Arlington ', 'UT Martin', 'UTEP', 'UTRGV', 'UTSA', 'University of the Southwest', 'Utah', 'Utah St.', 'Utah State', 'Utah Valley', 'VCU', 'VMI', 'Valparaiso', 'Vanderbilt', 'Vermont', 'Villanova', 'Virginia', 'Virginia Tech', 'Wagner', 'Wake Forest', 'Washington', 'Washington St.', 'Weber St.', 'Weber State', 'West Virginia', 'Western Caro.', 'Western Ill.', 'Western Illinois', 'Western Ky.', 'Western Mich.', 'Wichita St.', 'Wichita State', 'William &amp; Mary', 'Winthrop', 'Wisconsin', 'Wofford', 'Wright St.', 'Wright State', 'Wyoming', 'Xavier', 'Yale', 'Youngstown St.']\n"
     ]
    }
   ],
   "source": [
    "print(games_guest_colleges)"
   ]
  },
  {
   "cell_type": "code",
   "execution_count": 59,
   "metadata": {
    "ExecuteTime": {
     "end_time": "2020-07-16T03:08:46.045497Z",
     "start_time": "2020-07-16T03:08:46.041338Z"
    }
   },
   "outputs": [
    {
     "name": "stdout",
     "output_type": "stream",
     "text": [
      "['A&amp;M-Corpus Chris', 'Abilene Christian', 'Adams St.', 'Adrian', 'Air Force', 'Akron', 'Alabama', 'Alabama A&amp;M', 'Alabama St.', 'Alabama State', 'Alas. Anchorage', 'Alaska-Anch.', 'Albany', 'Albany (NY)', 'Albany St. (GA)', 'Albion', 'Alcorn St.', 'Alcorn State', 'Alice Lloyd', 'Allen', 'Alma', 'American', 'Anderson (IN)', 'Anderson (SC)', 'Angelo St.', 'Angelo State', 'Antelope Valley', 'Appalachian St.', 'Aquinas', 'Arcadia', 'Arizona', 'Arizona Christian', 'Arizona St.', 'Ark.-Fort Smith', 'Ark.-Monticello', 'Ark.-Pine Bluff', 'Arkansas', 'Arkansas St.', 'Arkansas State', 'Arkansas Tech', 'Arlington Baptist', 'Army', 'Army West Point', 'Asbury', 'Aub.-Montgomery', 'Auburn', 'Austin', 'Austin Peay', 'Ave Maria', 'Averett', 'Avila', 'BYU', 'BYU-Hawaii', 'Bakersfield', 'Ball St.', 'Ball State', 'Baptist Bible (PA)', 'Baylor', 'Belmont', 'Belmont Abbey', 'Bemidji St.', 'Bemidji State', 'Benedictine Mesa', 'Berea', 'Bethany (WV)', 'Bethel (TN)', 'Bethel (Tenn.)', 'Bethesda Christian', 'Bethune-Cookman', 'Binghamton', 'Biola', 'Black Hills St.', 'Bloomsburg', 'Blue Mountain', 'Bluefield Col.', 'Bluefield St.', 'Bob Jones', 'Boise St.', 'Boise State', 'Boston College', 'Boston U.', 'Bowie St.', 'Bowling Green', 'Boyce', 'Bradley', 'Brescia', 'Brevard', 'Brewton Parker', 'Bridgewater ', 'Bridgewater (VA)', 'Bristol', 'Brown', 'Bryant', 'Bryn Athyn', 'Bucknell', 'Buena Vista', 'Buffalo', 'Butler', 'CCNY', 'CSU Bakersfield', 'CSU Dom. Hills', 'CSU Fullerton', 'CSU Stanislaus', 'CSUN', 'Cabrini', 'Cairn', 'Cal Baptist', 'Cal Lutheran', 'Cal Poly', 'Cal St. Dom. Hills', 'Cal St. East Bay', 'Cal St. Fullerton', 'Cal St. L.A.', 'Cal St. Monterey Bay', 'Cal St. Northridge', 'Cal St. San Marcos', 'California', 'California Merced', 'Caltech', 'Campbell', 'Campbellsville', 'Canisius', 'Carnegie Mellon', 'Carroll (MT)', 'Carver Bible', 'Catawba', 'Catholic', 'Cedarville', 'Cent. Conn. St.', 'Centenary (LA)', 'Centenary (La.)', 'Centenary (N.J.)', 'Centenary (NJ)', 'Central Ark.', 'Central Baptist', 'Central Conn. St.', 'Central Mich.', 'Central Penn', 'Central St. (OH)', 'Central State ', 'Central Wash.', 'Chadron St.', 'Chaminade', 'Champion Bapt.', 'Chapman', 'Charleston', 'Charleston So.', 'Charlotte', 'Chatham', 'Chattanooga', 'Chestnut Hill', 'Cheyney', 'Chicago St.', 'Chicago State', 'Chowan', 'Cin Clermont', 'Cincinnati', 'Cincinnati Christian', 'Citadel', 'Claflin', 'Clarion', 'Clemson', 'Cleveland St.', 'Cleveland State', 'Coastal Caro.', 'Coastal Ga.', 'Coe', 'Coker', 'Col. of Charleston', 'Col. of Idaho', 'Colgate', 'Colo. Christian', 'Colorado', 'Colorado Col.', 'Colorado Mesa', 'Colorado St.', 'Colorado State', 'Columbia', 'Columbia Int&#039;l', 'Columbia International', 'Conc. (Texas)', 'Concord', 'Concordia (MI)', 'Concordia (Mich.)', 'Concordia (NE)', 'Concordia (Neb.)', 'Concordia (OR)', 'Concordia College', 'Concordia-St. Paul', 'Coppin St.', 'Coppin State', 'Corban', 'Cornell', 'Cornell College', 'Covenant', 'Creighton', 'Crowley&#039;s Ridge', 'Crown (MN)', 'Cumberland ', 'Cumberland (TN)', 'Curry', 'Dakota St.', 'Dallas', 'Dalton St.', 'Daniel Webster', 'Dartmouth', 'Davidson', 'Davis &amp; Elkins', 'Dayton', 'DePaul', 'Dean College', 'Defiance', 'Delaware', 'Delaware St.', 'Delaware State', 'Denison', 'Denver', 'Detroit', 'Detroit Mercy', 'Dickinson State', 'Dillard', 'Dixie State', 'Doane', 'Dominican (Ill.)', 'Drake', 'Drexel', 'Dubuque', 'Duke', 'Duquesne', 'E. Texas Bapt.', 'Earlham', 'East Carolina', 'East Central', 'East Tenn. St.', 'East Tex. Baptist', 'East-West U.', 'East. Mennonite', 'Eastern', 'Eastern Ill.', 'Eastern Illinois', 'Eastern Kentucky', 'Eastern Ky.', 'Eastern Mich.', 'Eastern N.M.', 'Eastern Ore.', 'Eastern Oregon', 'Eastern Wash.', 'Ecclesia', 'Eckerd', 'Edward Waters', 'Elizabeth City St.', 'Elmira', 'Elms', 'Elon', 'Embry-Riddle (FL)', 'Emerson', 'Emmanuel (GA)', 'Emory', 'Emporia St.', 'Erskine', 'Eureka', 'Evansville', 'FDU-Florham', 'FGCU', 'FIU', 'Fairfield', 'Fairleigh D&#039;son', 'Fairleigh Dickinson', 'Farmingdale St.', 'Fayetteville St.', 'Ferris St.', 'Ferrum', 'Findlay', 'Fisher', 'Fisk', 'Fla. Atlantic', 'Fla. Christian', 'Fla. National', 'Florida', 'Florida A&amp;M', 'Florida Atlantic', 'Florida Col.', 'Florida Mem.', 'Florida St.', 'Florida State', 'Florida Tech', 'Fontbonne', 'Fordham', 'Fort Hays St.', 'Fort Lewis', 'Fort Valley St.', 'Fort Wayne', 'Francis Marion', 'Franciscan', 'Fresno Pacific', 'Fresno St.', 'Fresno State', 'Frostburg St.', 'Frostburg State', 'Furman', 'Ga. Southern', 'Ga. Southwestern', 'Gallaudet', 'Gardner-Webb', 'Geneva', 'Geo. Washington', 'George Fox', 'George Mason', 'George Washington', 'Georgetown', 'Georgia', 'Georgia College', 'Georgia St.', 'Georgia State', 'Georgia Tech', 'Georgian Court', 'Glenville State', 'Goldey-Beacom', 'Gonzaga', 'Gordon', 'Goshen', 'Goucher', 'Grace (IN)', 'Grace Bible College', 'Grambling', 'Grand Canyon', 'Great Falls', 'Green Bay', 'Greensboro', 'Hampton', 'Hannibal-La Grange', 'Hardin-Simmons', 'Harding', 'Harris-Stowe', 'Hartford', 'Hartwick', 'Harvard', 'Haskell', 'Hawaii', 'Hawaii Hilo', 'Hawaii Pacific', 'Hawaii-Hilo', 'Heidelberg', 'Henderson St.', 'Hendrix', 'High Point', 'Hillsdale Baptist', 'Hiram', 'Hiwassee', 'Hofstra', 'Holy Cross', 'Holy Names', 'Hood', 'Houston', 'Houston Baptist', 'Howard', 'Howard Payne', 'Humboldt State', 'Huntingdon', 'Huston-Tillotson', 'IIT', 'IPFW', 'IUPUI', 'Idaho', 'Idaho St.', 'Idaho State', 'Ill.-Chicago', 'Ill.-Springfield', 'Illinois', 'Illinois St.', 'Illinois State', 'Illinois Tech', 'Incarnate Word', 'Ind.-South Bend', 'Indiana', 'Indiana St.', 'Indiana State', 'Indiana-Kokomo', 'Indiana-Northwest', 'Indianapolis', 'Iona', 'Iowa', 'Iowa St.', 'Iowa State', 'Jackson St.', 'Jackson State', 'Jacksonville', 'Jacksonville St.', 'James Madison', 'Jarvis Christian', 'John Brown', 'John Jay', 'John. &amp; Wales (Colo.)', 'John. &amp; Wales (N.C.)', 'John. &amp; Wales (R.I.)', 'Johnson', 'Johnson &amp; Wales (CO)', 'Johnson &amp; Wales (NC)', 'Johnson &amp; Wales (RI)', 'Judson', 'Kansas', 'Kansas St.', 'Kean', 'Kennesaw St.', 'Kennesaw State', 'Kent St.', 'Kent State', 'Kentucky', 'Kentucky St.', 'Kentucky Wesleyan', 'Kenyon', 'Keystone', 'Ky. Christian', 'Ky. Wesleyan', 'LIFE Pacific', 'LIU Brooklyn', 'LMU', 'LSU', 'LSU Shreveport', 'LSU-Alexandria', 'La Roche', 'La Salle', 'La Verne', 'La.-Monroe', 'LaGrange', 'Lafayette', 'Lake Erie', 'Lakeland', 'Lamar', 'Lamar University', 'Lander', 'Le Moyne', 'LeMoyne-Owen', 'LeTourneau', 'Lebanon Valley', 'Lees-McRae', 'Lehigh', 'Lenoir-Rhyne', 'Lesley', 'Lewis', 'Lewis &amp; Clark', 'Liberty', 'Limestone', 'Lincoln (MO)', 'Lincoln (PA)', 'Lincoln (Pa.)', 'Lindenwood', 'Linfield', 'Lipscomb', 'Little Rock', 'Long Beach St.', 'Long Island', 'Longwood', 'Louisiana', 'Louisiana Col.', 'Louisiana Coll.', 'Louisiana Tech', 'Louisville', 'Lourdes', 'Loyola (IL)', 'Loyola (LA)', 'Loyola (La.)', 'Loyola (Md.)', 'Loyola Chicago', 'Loyola Maryland', 'Loyola Marymount', 'Lynchburg', 'Lyndon St.', 'Lyndon State', 'Lyon', 'MIT', 'Madonna', 'Maine', 'Maine-Fort Kent', 'Malone', 'Manchester', 'Manhattan', 'Manhattanville', 'Mansfield', 'Marian (Ind.)', 'Marist', 'Marquette', 'Mars Hill', 'Marshall', 'Mary', 'Mary Washington', 'Marygrove', 'Maryland', 'Maryville (MO)', 'Marywood', 'Mass.-Boston', 'Mass.-Lowell', 'Massachusetts', 'Master&#039;s', 'Mayville St.', 'Mayville State', 'McGill', 'McKendree', 'McMurry', 'McNeese ', 'McNeese St.', 'McPherson', 'Md.-East. Shore', 'Me.-Presque Isle', 'Medaille', 'Medgar Evers', 'Memphis', 'Menlo', 'Mercer', 'Merchant Marine', 'Mercy', 'Messiah', 'Methodist', 'Miami (FL)', 'Miami (Fla.)', 'Miami (OH)', 'Miami (Ohio)', 'Mich. St. ', 'Michigan', 'Michigan St.', 'Michigan-Dearborn', 'Mid-Atlantic Christ.', 'Middle Ga. St.', 'Middle Tenn.', 'Miles', 'Millersville', 'Milligan', 'Millsaps', 'Milwaukee', 'Milwaukee Engr.', 'Minn. Duluth', 'Minn.-Crookston', 'Minn.-Morris', 'Minnesota', 'Minnesota-Morris', 'Misericordia', 'Mississippi', 'Mississippi Col.', 'Mississippi Coll.', 'Mississippi St.', 'Mississippi Val.', 'Missouri', 'Missouri S&amp;T', 'Missouri St.', 'Missouri State', 'Missouri Valley', 'Mitchell', 'Mo. Southern St.', 'Mo. Western St.', 'Mo.-St. Louis', 'Mobile', 'Molloy', 'Monmouth', 'Montana', 'Montana St.', 'Montana Tech', 'Montana-Western', 'Montreat', 'Moravian', 'Morehead St.', 'Morehead State', 'Morehouse', 'Morgan St.', 'Morgan State', 'Morris', 'Mount Aloysius', 'Mt. St. Joseph', 'Mt. St. Mary (NY)', 'Mt. St. Mary&#039;s', 'Mt. St. Vincent', 'Multnomah Bible', 'Murray St.', 'Murray State', 'Muskingum', 'N&#039;west Nazarene', 'N&#039;western Ohio', 'N&#039;western St.', 'N.C. A&amp;T', 'N.C. Central', 'N.C. Wesleyan', 'N.M. Highlands', 'NC State', 'NJIT', 'NW Christian', 'NYIT', 'Navy', 'Nazareth', 'Neb. Omaha', 'Nebraska', 'Nevada', 'New Hampshire', 'New Hope Christian', 'New Mexico', 'New Mexico St.', 'New Orleans', 'Newberry', 'Newbury', 'Niagara', 'Nicholls St.', 'Nicholls State', 'No. New Mexico', 'Norfolk St.', 'Norfolk State', 'North Alabama', 'North Carolina', 'North Carolina St.', 'North Dakota', 'North Dakota St.', 'North Florida', 'North Ga.', 'North Greenville', 'North Park', 'North Texas', 'Northeastern', 'Northeastern St.', 'Northern Ariz.', 'Northern Colo.', 'Northern Ill.', 'Northern Kentucky', 'Northern Ky.', 'Northern Mich.', 'Northland', 'Northwest (WA)', 'Northwest (Wash.)', 'Northwest Indian', 'Northwest Nazarene', 'Northwestern', 'Northwestern Ohio', 'Northwestern St.', 'Northwood (MI)', 'Notre Dame', 'Notre Dame (OH)', 'Notre Dame (Ohio)', 'Notre Dame de Namur', 'Oak Hills Christian', 'Oakland', 'Oakland City', 'Oakwood', 'Oberlin', 'Oglethorpe', 'Ohio', 'Ohio Christian', 'Ohio Dominican', 'Ohio Northern', 'Ohio St.', 'Ohio St. ', 'Ohio Valley', 'Okla. Baptist', 'Okla. Panhandle', 'Oklahoma', 'Oklahoma St.', 'Oklahoma State', 'Old Dominion', 'Ole Miss', 'Olivet', 'Olivet Nazarene', 'Omaha', 'Oneonta St.', 'Oral Roberts', 'Oregon', 'Oregon St.', 'Oregon Tech', 'Ottawa', 'Ouachita Baptist', 'Our Lady Of The Lake', 'Ozarks ', 'Ozarks (AR)', 'Pacific', 'Pacific Lutheran', 'Pacific Union', 'Paine', 'Palm Beach Atl.', 'Paul Quinn', 'Peace', 'Penn', 'Penn St.', 'Penn St.-Harrisburg', 'Pensacola Christian', 'Pepperdine', 'Pfeiffer', 'Phila. Biblical', 'Piedmont', 'Piedmont Int&#039;l', 'Pine Manor', 'Pitt.-Bradford', 'Pittsburgh', 'Point Loma', 'Point U.', 'Pomona-Pitzer', 'Portland', 'Portland St.', 'Portland State', 'Prairie View', 'Prairie View A&amp;M', 'Presbyterian', 'Presentation', 'Princeton', 'Providence', 'Puget Sound', 'Purdue', 'Purdue-Calumet', 'Purdue-North Cent.', 'Queens (N.Y.)', 'Queens (NY)', 'Quincy', 'Quinnipiac', 'Radford', 'Randolph', 'Regis (CO)', 'Reinhardt', 'Rhode Island', 'Rice', 'Richmond', 'Rider', 'Rio Grande', 'Rivier', 'Roanoke', 'Robert Morris', 'Rochester (MI)', 'Rochester (Mich.)', 'Rockford', 'Rockhurst', 'Rocky Mountain', 'Rogers St.', 'Roosevelt', 'Rosemont', 'Rowan', 'Rust', 'Rutgers', 'Rutgers-Newark', 'S&#039;eastern Okla.', 'S&#039;west Minn. St.', 'S&#039;western (Texas)', 'S. Carolina St.', 'S.C. Upstate', 'SFA', 'SIU Edwardsville', 'SIUE', 'SMU', 'SUNY Maritime', 'SUNY Oneonta', 'Sacramento St.', 'Sacred Heart', 'Saint Joseph&#039;s', 'Saint Leo', 'Saint Louis', 'Salem Int&#039;l', 'Salve Regina', 'Sam Houston St.', 'Samford', 'San Diego', 'San Diego Christian', 'San Diego St.', 'San Diego State', 'San Fran. St.', 'San Francisco', 'San Jose St.', 'San Jose State', 'Santa Clara', 'Sarah Lawrence', 'Savannah St.', 'Savannah State', 'Schreiner', 'Seattle', 'Seattle U', 'Selma', 'Seton Hall', 'Seton Hill', 'Sewanee', 'Shenandoah', 'Siena', 'Siena Heights', 'Silver Lake', 'Simon Fraser', 'Simpson', 'Simpson (CA)', 'Skidmore', 'Sonoma St.', 'Sonoma State', 'South Ala.', 'South Alabama', 'South Carolina', 'South Carolina St.', 'South Dakota', 'South Dakota Mines', 'South Dakota St.', 'South Fla.', 'South Florida', 'Southeast Mo. St.', 'Southeastern La.', 'Southeastern Okla.', 'Southern California', 'Southern Ill.', 'Southern Miss', 'Southern Miss.', 'Southern Nazarene', 'Southern Ore.', 'Southern U.', 'Southern Univ.', 'Southern Utah', 'Southern Va.', 'Southern Wesleyan', 'Southern-N.O.', 'Southwestern (TX)', 'Spalding', 'Spring Arbor', 'Spring Hill', 'St. Ambrose', 'St. Andrews', 'St. Bonaventure', 'St. Catharine', 'St. Edward&#039;s', 'St. Francis (B&#039;klyn)', 'St. Francis (IL)', 'St. Francis (Ill.)', 'St. Francis (NY)', 'St. Francis (PA)', 'St. Francis (Pa.)', 'St. John&#039;s ', 'St. John&#039;s (NY)', 'St. Jos. (Brkln.)', 'St. Joseph&#039;s (IN)', 'St. Martin&#039;s', 'St. Mary&#039;s (CA)', 'St. Mary&#039;s (Cal.)', 'St. Mary&#039;s (MD)', 'St. Mary&#039;s (MN)', 'St. Mary&#039;s (Md.)', 'St. Mary&#039;s (TX)', 'St. Mary&#039;s (Texas)', 'St. Peter&#039;s', 'St. Thomas (MN)', 'Stanford', 'Staten Island', 'Stephen F. Austin', 'Stetson', 'Stockton', 'Stony Brook', 'Sul Ross St.', 'Susquehanna', 'Syracuse', 'TCU', 'Tabor', 'Tampa', 'Temple', 'Tenn. Wesleyan', 'Tennessee', 'Tennessee St.', 'Tennessee State', 'Tennessee Tech', 'Tex. A&amp;M Int&#039;l', 'Tex. A&amp;M-Kingsville', 'Tex. Permian Basin', 'Texas', 'Texas A&amp;M', 'Texas A&amp;M-C.C.', 'Texas A&amp;M-Comm.', 'Texas A&amp;M-Int&#039;l', 'Texas College', 'Texas Lutheran', 'Texas Southern', 'Texas St.', 'Texas State', 'Texas Tech', 'Texas Wesleyan', 'Texas-Arlington', 'Texas-Dallas', 'Texas-Tyler', 'Thiel', 'Thomas (GA)', 'Thomas More', 'Tiffin', 'Toccoa Falls', 'Toledo', 'Tougaloo', 'Towson', 'Trevecca Nazarene', 'Trinity (FL)', 'Trinity (TX)', 'Trinity (Texas)', 'Trinity Baptist', 'Trinity Christian', 'Trinity Int&#039;l', 'Troy', 'Truett-McConnell', 'Truman', 'Tulane', 'Tulsa', 'Tusculum', 'Tuskegee', 'UAB', 'UALR', 'UC Davis', 'UC Irvine', 'UC Riverside', 'UC San Diego', 'UC Santa Barb.', 'UC Santa Barbara', 'UC Santa Cruz', 'UCF', 'UCLA', 'UConn', 'UIC', 'UMBC', 'UMES', 'UMKC', 'UNC Asheville', 'UNC Greensboro', 'UNC Wilmington', 'UNCG', 'UNCW', 'UNI', 'UNLV', 'USC', 'UT Arlington ', 'UT Martin', 'UT Permian Basin', 'UT Tyler', 'UTEP', 'UTRGV', 'UTSA', 'UVa-Wise', 'Union (NY)', 'Union (TN)', 'University of the Southwest', 'Urbana', 'Urbana University', 'Ursinus', 'Utah', 'Utah St.', 'Utah State', 'Utah Valley', 'Utica', 'VCU', 'VMI', 'Valley City St.', 'Valley Forge Chrst.', 'Valparaiso', 'Vanderbilt', 'Vanguard', 'Vermont', 'Villanova', 'Virginia', 'Virginia Tech', 'Voorhees', 'Wabash', 'Wagner', 'Wake Forest', 'Waldorf', 'Walla Walla', 'Warner Southern', 'Warren Wilson', 'Wartburg', 'Wash. &amp; Lee', 'Wash. Advent.', 'Washington', 'Washington (Md.)', 'Washington Adventist', 'Washington Col.', 'Washington St.', 'Wayland Baptist', 'Wayne St. (NE)', 'Webber Int&#039;l', 'Weber St.', 'Weber State', 'Wentworth', 'Wesley', 'West Alabama', 'West Coast Baptist', 'West Va. Tech', 'West Va. Wesleyan', 'West Virginia', 'Western Caro.', 'Western Ill.', 'Western Illinois', 'Western Ky.', 'Western Mich.', 'Western N.M.', 'Western New Eng.', 'Western Ore.', 'Western St.', 'Western State', 'Westmin. (Pa.)', 'Westmin. (Utah)', 'Westminster (MO)', 'Westminster (PA)', 'Wheaton (MA)', 'Wheelock', 'Whittier', 'Whitworth', 'Wichita St.', 'Wichita State', 'Widener', 'Wilberforce', 'Wiley', 'Willamette', 'William &amp; Mary', 'William Carey', 'William Jessup', 'William Jewell', 'William Woods', 'Williams Baptist', 'Wilmington (DE)', 'Wilmington (Del.)', 'Wilmington (Ohio)', 'Wilson', 'Winthrop', 'Wis.-La Crosse', 'Wis.-Parkside', 'Wis.-Superior', 'Wisconsin', 'Wofford', 'Worcester St.', 'Wright St.', 'Wright State', 'Wyoming', 'Xavier', 'Xavier (LA)', 'Yale', 'York (NE)', 'York (PA)', 'Youngstown St.']\n"
     ]
    }
   ],
   "source": [
    "print(games_home_colleges)"
   ]
  },
  {
   "cell_type": "markdown",
   "metadata": {},
   "source": [
    "Comparing the three lists, they obviously are different. To me at least, the ground truth is the dataframe with teams_colleges. To start cleaning, at least I would remove the unnecessary characters like ';  #  amp  .'"
   ]
  },
  {
   "cell_type": "code",
   "execution_count": 60,
   "metadata": {
    "ExecuteTime": {
     "end_time": "2020-07-16T04:00:05.829309Z",
     "start_time": "2020-07-16T04:00:05.826217Z"
    }
   },
   "outputs": [
    {
     "name": "stdout",
     "output_type": "stream",
     "text": [
      "A&amp;M-Corpus Chris\n"
     ]
    }
   ],
   "source": [
    "test = games_guest_colleges[0]\n",
    "\n",
    "print(test)"
   ]
  },
  {
   "cell_type": "code",
   "execution_count": 66,
   "metadata": {
    "ExecuteTime": {
     "end_time": "2020-07-16T04:03:43.432622Z",
     "start_time": "2020-07-16T04:03:43.429257Z"
    }
   },
   "outputs": [],
   "source": [
    "def cleanup(name):\n",
    "    name = name.replace('amp','')\n",
    "    name = name.replace(';','')\n",
    "    name = name.replace('.','')\n",
    "    name = name.replace('#','')\n",
    "    name = name.replace()\n",
    "    return(name)\n"
   ]
  },
  {
   "cell_type": "code",
   "execution_count": 67,
   "metadata": {
    "ExecuteTime": {
     "end_time": "2020-07-16T04:08:19.800507Z",
     "start_time": "2020-07-16T04:08:19.781923Z"
    }
   },
   "outputs": [],
   "source": [
    "df_games['Home'] = df_games['Home'].apply(lambda x: cleanup(x))"
   ]
  },
  {
   "cell_type": "code",
   "execution_count": 68,
   "metadata": {
    "ExecuteTime": {
     "end_time": "2020-07-16T04:08:39.492220Z",
     "start_time": "2020-07-16T04:08:39.479005Z"
    }
   },
   "outputs": [
    {
     "data": {
      "text/html": [
       "<div>\n",
       "<style scoped>\n",
       "    .dataframe tbody tr th:only-of-type {\n",
       "        vertical-align: middle;\n",
       "    }\n",
       "\n",
       "    .dataframe tbody tr th {\n",
       "        vertical-align: top;\n",
       "    }\n",
       "\n",
       "    .dataframe thead th {\n",
       "        text-align: right;\n",
       "    }\n",
       "</style>\n",
       "<table border=\"1\" class=\"dataframe\">\n",
       "  <thead>\n",
       "    <tr style=\"text-align: right;\">\n",
       "      <th></th>\n",
       "      <th>Date</th>\n",
       "      <th>Guest</th>\n",
       "      <th>Guest_Points</th>\n",
       "      <th>Home</th>\n",
       "      <th>Home_Points</th>\n",
       "    </tr>\n",
       "  </thead>\n",
       "  <tbody>\n",
       "    <tr>\n",
       "      <th>0</th>\n",
       "      <td>2015-11-13</td>\n",
       "      <td>Hawaii</td>\n",
       "      <td>87</td>\n",
       "      <td>Montana St</td>\n",
       "      <td>76</td>\n",
       "    </tr>\n",
       "    <tr>\n",
       "      <th>1</th>\n",
       "      <td>2015-11-13</td>\n",
       "      <td>Eastern Mich.</td>\n",
       "      <td>70</td>\n",
       "      <td>Vermont</td>\n",
       "      <td>50</td>\n",
       "    </tr>\n",
       "    <tr>\n",
       "      <th>2</th>\n",
       "      <td>2015-11-13</td>\n",
       "      <td>Columbia</td>\n",
       "      <td>107</td>\n",
       "      <td>Kean</td>\n",
       "      <td>62</td>\n",
       "    </tr>\n",
       "    <tr>\n",
       "      <th>3</th>\n",
       "      <td>2015-11-13</td>\n",
       "      <td>La.-Monroe</td>\n",
       "      <td>88</td>\n",
       "      <td>McMurry</td>\n",
       "      <td>43</td>\n",
       "    </tr>\n",
       "    <tr>\n",
       "      <th>4</th>\n",
       "      <td>2015-11-13</td>\n",
       "      <td>Yale</td>\n",
       "      <td>70</td>\n",
       "      <td>Fairfield</td>\n",
       "      <td>57</td>\n",
       "    </tr>\n",
       "    <tr>\n",
       "      <th>...</th>\n",
       "      <td>...</td>\n",
       "      <td>...</td>\n",
       "      <td>...</td>\n",
       "      <td>...</td>\n",
       "      <td>...</td>\n",
       "    </tr>\n",
       "    <tr>\n",
       "      <th>23488</th>\n",
       "      <td>2019-03-21</td>\n",
       "      <td>Hampton</td>\n",
       "      <td>81</td>\n",
       "      <td>St Francis (B&amp;#039klyn)</td>\n",
       "      <td>72</td>\n",
       "    </tr>\n",
       "    <tr>\n",
       "      <th>23489</th>\n",
       "      <td>2019-03-21</td>\n",
       "      <td>La.-Monroe</td>\n",
       "      <td>87</td>\n",
       "      <td>Kent State</td>\n",
       "      <td>77</td>\n",
       "    </tr>\n",
       "    <tr>\n",
       "      <th>23490</th>\n",
       "      <td>2019-03-21</td>\n",
       "      <td>CSU Fullerton</td>\n",
       "      <td>58</td>\n",
       "      <td>CSU Bakersfield</td>\n",
       "      <td>66</td>\n",
       "    </tr>\n",
       "    <tr>\n",
       "      <th>23491</th>\n",
       "      <td>2019-03-22</td>\n",
       "      <td>Southern Utah</td>\n",
       "      <td>80</td>\n",
       "      <td>Drake</td>\n",
       "      <td>73</td>\n",
       "    </tr>\n",
       "    <tr>\n",
       "      <th>23492</th>\n",
       "      <td>2019-03-22</td>\n",
       "      <td>Creighton</td>\n",
       "      <td>79</td>\n",
       "      <td>Memphis</td>\n",
       "      <td>67</td>\n",
       "    </tr>\n",
       "  </tbody>\n",
       "</table>\n",
       "<p>23492 rows × 5 columns</p>\n",
       "</div>"
      ],
      "text/plain": [
       "            Date          Guest  Guest_Points                     Home  \\\n",
       "0     2015-11-13         Hawaii            87               Montana St   \n",
       "1     2015-11-13  Eastern Mich.            70                  Vermont   \n",
       "2     2015-11-13       Columbia           107                     Kean   \n",
       "3     2015-11-13     La.-Monroe            88                  McMurry   \n",
       "4     2015-11-13           Yale            70                Fairfield   \n",
       "...          ...            ...           ...                      ...   \n",
       "23488 2019-03-21        Hampton            81  St Francis (B&#039klyn)   \n",
       "23489 2019-03-21     La.-Monroe            87               Kent State   \n",
       "23490 2019-03-21  CSU Fullerton            58          CSU Bakersfield   \n",
       "23491 2019-03-22  Southern Utah            80                    Drake   \n",
       "23492 2019-03-22      Creighton            79                  Memphis   \n",
       "\n",
       "       Home_Points  \n",
       "0               76  \n",
       "1               50  \n",
       "2               62  \n",
       "3               43  \n",
       "4               57  \n",
       "...            ...  \n",
       "23488           72  \n",
       "23489           77  \n",
       "23490           66  \n",
       "23491           73  \n",
       "23492           67  \n",
       "\n",
       "[23492 rows x 5 columns]"
      ]
     },
     "execution_count": 68,
     "metadata": {},
     "output_type": "execute_result"
    }
   ],
   "source": [
    "df_games"
   ]
  },
  {
   "cell_type": "code",
   "execution_count": null,
   "metadata": {},
   "outputs": [],
   "source": []
  }
 ],
 "metadata": {
  "kernelspec": {
   "display_name": "Python 3",
   "language": "python",
   "name": "python3"
  },
  "language_info": {
   "codemirror_mode": {
    "name": "ipython",
    "version": 3
   },
   "file_extension": ".py",
   "mimetype": "text/x-python",
   "name": "python",
   "nbconvert_exporter": "python",
   "pygments_lexer": "ipython3",
   "version": "3.7.3"
  },
  "latex_envs": {
   "LaTeX_envs_menu_present": true,
   "autoclose": false,
   "autocomplete": true,
   "bibliofile": "biblio.bib",
   "cite_by": "apalike",
   "current_citInitial": 1,
   "eqLabelWithNumbers": true,
   "eqNumInitial": 1,
   "hotkeys": {
    "equation": "Ctrl-E",
    "itemize": "Ctrl-I"
   },
   "labels_anchors": false,
   "latex_user_defs": false,
   "report_style_numbering": false,
   "user_envs_cfg": false
  },
  "toc": {
   "base_numbering": 1,
   "nav_menu": {},
   "number_sections": true,
   "sideBar": true,
   "skip_h1_title": false,
   "title_cell": "Table of Contents",
   "title_sidebar": "Contents",
   "toc_cell": false,
   "toc_position": {},
   "toc_section_display": true,
   "toc_window_display": true
  }
 },
 "nbformat": 4,
 "nbformat_minor": 2
}
